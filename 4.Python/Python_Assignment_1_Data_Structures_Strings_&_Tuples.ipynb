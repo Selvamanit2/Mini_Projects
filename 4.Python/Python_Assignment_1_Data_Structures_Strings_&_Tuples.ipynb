{
  "nbformat": 4,
  "nbformat_minor": 0,
  "metadata": {
    "colab": {
      "provenance": [],
      "toc_visible": true
    },
    "kernelspec": {
      "name": "python3",
      "display_name": "Python 3"
    },
    "language_info": {
      "name": "python"
    }
  },
  "cells": [
    {
      "cell_type": "markdown",
      "source": [
        "#Strings (Concatenation, Slicing and Other methods) :"
      ],
      "metadata": {
        "id": "PZaJd-eLfcVt"
      }
    },
    {
      "cell_type": "markdown",
      "source": [
        "##1. String Concatenation:\n",
        "Write a Python program that takes two strings i.e string 1 “Hello ”, string 2 get name as input from the user and concatenates them together. Display the concatenated string as the output.\n",
        "\n"
      ],
      "metadata": {
        "id": "XY8mQOfpfoMr"
      }
    },
    {
      "cell_type": "code",
      "execution_count": null,
      "metadata": {
        "id": "XUa8ShDRPHdi"
      },
      "outputs": [],
      "source": [
        "text = \"hello\"\n",
        "name = input(\"Enter your Name:\")\n",
        "print(text +\" \" + name)"
      ]
    },
    {
      "cell_type": "markdown",
      "source": [
        "##Now concatenate string 3 “, welcome to Python programming” to the existing string and display the output string.\n"
      ],
      "metadata": {
        "id": "Q_Uo1I8uj2CE"
      }
    },
    {
      "cell_type": "code",
      "source": [
        "message = \"welcome to Python programming\"\n",
        "print(text +\" \" + name + \" \" + message)\n"
      ],
      "metadata": {
        "colab": {
          "base_uri": "https://localhost:8080/"
        },
        "id": "B55hKYkGilR6",
        "outputId": "0893b2bf-21e3-4314-8ef0-91baafdee96f"
      },
      "execution_count": null,
      "outputs": [
        {
          "output_type": "stream",
          "name": "stdout",
          "text": [
            "hello selva mani welcome to Python programming\n"
          ]
        }
      ]
    },
    {
      "cell_type": "markdown",
      "source": [
        "##2. String Slicing and Indexing:\n",
        "Write a Python program using the above concatenated string as input and performs the following tasks:\n",
        "\n",
        "- a.\tPrint the first character of the string.\n",
        "\n",
        "- b.\tPrint the last character of the string.\n",
        "\n",
        "- c.\tPrint the first 5 characters of the string.\n",
        "\n",
        "- d.\tPrint the last 11 characters of the string.\n",
        "\n",
        "- e.\tPrint the string in reverse.\n",
        "\n",
        "- f.\tUse slicing and print the word “Python” from the existing string.\n",
        "\n",
        "\n",
        "\n"
      ],
      "metadata": {
        "id": "JwdsJmXwj-X7"
      }
    },
    {
      "cell_type": "markdown",
      "source": [
        "#a. Print the first character of the string.\n"
      ],
      "metadata": {
        "id": "0dlwpM6cmySr"
      }
    },
    {
      "cell_type": "code",
      "source": [
        "text = \"hello selva mani welcome to Python programming\"\n",
        "\n",
        "text[0]"
      ],
      "metadata": {
        "colab": {
          "base_uri": "https://localhost:8080/",
          "height": 35
        },
        "id": "OYOIpIIHj92f",
        "outputId": "f84587b2-643b-40ec-afe4-305e824d2027"
      },
      "execution_count": null,
      "outputs": [
        {
          "output_type": "execute_result",
          "data": {
            "text/plain": [
              "'h'"
            ],
            "application/vnd.google.colaboratory.intrinsic+json": {
              "type": "string"
            }
          },
          "metadata": {},
          "execution_count": 10
        }
      ]
    },
    {
      "cell_type": "markdown",
      "source": [
        "#b. Print the last character of the string.\n",
        "\n"
      ],
      "metadata": {
        "id": "A0k6fOAAm4dn"
      }
    },
    {
      "cell_type": "code",
      "source": [
        "text = \"hello selva mani welcome to Python programming\"\n",
        "\n",
        "text[-1]"
      ],
      "metadata": {
        "colab": {
          "base_uri": "https://localhost:8080/",
          "height": 35
        },
        "id": "cntoH9gCmsX4",
        "outputId": "672ae04a-81c2-41a0-8524-971c42eae6d1"
      },
      "execution_count": null,
      "outputs": [
        {
          "output_type": "execute_result",
          "data": {
            "text/plain": [
              "'g'"
            ],
            "application/vnd.google.colaboratory.intrinsic+json": {
              "type": "string"
            }
          },
          "metadata": {},
          "execution_count": 11
        }
      ]
    },
    {
      "cell_type": "markdown",
      "source": [
        "#c. Print the first 5 characters of the string."
      ],
      "metadata": {
        "id": "5N7f7bIunR4y"
      }
    },
    {
      "cell_type": "code",
      "source": [
        "text = \"hello selva mani welcome to Python programming\"\n",
        "\n",
        "text[:6]"
      ],
      "metadata": {
        "colab": {
          "base_uri": "https://localhost:8080/",
          "height": 35
        },
        "id": "C4B0djtOnV7a",
        "outputId": "34227c09-8f36-4961-ef34-dcc58d5ce6bb"
      },
      "execution_count": null,
      "outputs": [
        {
          "output_type": "execute_result",
          "data": {
            "text/plain": [
              "'hello '"
            ],
            "application/vnd.google.colaboratory.intrinsic+json": {
              "type": "string"
            }
          },
          "metadata": {},
          "execution_count": 12
        }
      ]
    },
    {
      "cell_type": "markdown",
      "source": [],
      "metadata": {
        "id": "uQHAlu5nng8b"
      }
    },
    {
      "cell_type": "markdown",
      "source": [
        "#d. Print the last 11 characters of the string."
      ],
      "metadata": {
        "id": "qcwJnr67nj2v"
      }
    },
    {
      "cell_type": "code",
      "source": [
        "text = \"hello selva mani welcome to Python programming\"\n",
        "\n",
        "text[-11:]"
      ],
      "metadata": {
        "colab": {
          "base_uri": "https://localhost:8080/",
          "height": 35
        },
        "id": "lvVMVztano0i",
        "outputId": "fbafc21e-dccf-4f61-f308-1bfcc6c8ce08"
      },
      "execution_count": null,
      "outputs": [
        {
          "output_type": "execute_result",
          "data": {
            "text/plain": [
              "'programming'"
            ],
            "application/vnd.google.colaboratory.intrinsic+json": {
              "type": "string"
            }
          },
          "metadata": {},
          "execution_count": 14
        }
      ]
    },
    {
      "cell_type": "markdown",
      "source": [
        "#e. Print the string in reverse.\n",
        "\n"
      ],
      "metadata": {
        "id": "Zvm1OJFnocRY"
      }
    },
    {
      "cell_type": "code",
      "source": [
        "text = \"hello selva mani welcome to Python programming\"\n",
        "\n",
        "text[::-1]"
      ],
      "metadata": {
        "colab": {
          "base_uri": "https://localhost:8080/",
          "height": 35
        },
        "id": "oIjnextSohqS",
        "outputId": "d81cfa15-7ec9-45b5-93bd-bf1808ce0e52"
      },
      "execution_count": null,
      "outputs": [
        {
          "output_type": "execute_result",
          "data": {
            "text/plain": [
              "'gnimmargorp nohtyP ot emoclew inam avles olleh'"
            ],
            "application/vnd.google.colaboratory.intrinsic+json": {
              "type": "string"
            }
          },
          "metadata": {},
          "execution_count": 15
        }
      ]
    },
    {
      "cell_type": "markdown",
      "source": [
        "#f. Use slicing and print the word “Python” from the existing string."
      ],
      "metadata": {
        "id": "EQDeJF0EoxzK"
      }
    },
    {
      "cell_type": "code",
      "source": [
        "text = \"hello selva mani welcome to Python programming\"\n",
        "\n",
        "text[-18:-12]"
      ],
      "metadata": {
        "colab": {
          "base_uri": "https://localhost:8080/",
          "height": 35
        },
        "id": "NpQv6tt3o3kG",
        "outputId": "acfb2c84-9275-47d4-c173-64a30de140ae"
      },
      "execution_count": null,
      "outputs": [
        {
          "output_type": "execute_result",
          "data": {
            "text/plain": [
              "'Python'"
            ],
            "application/vnd.google.colaboratory.intrinsic+json": {
              "type": "string"
            }
          },
          "metadata": {},
          "execution_count": 19
        }
      ]
    },
    {
      "cell_type": "markdown",
      "source": [
        "#3. String Methods:\n",
        "Write a Python program that takes a string, strM = “Python beginner tutorial” and perform the following tasks:\n",
        "\n",
        "- a.\tConvert the sentence to uppercase.\n",
        "\n",
        "- b.\tConvert the sentence to lowercase.\n",
        "\n",
        "- c.\tUse Capitalize and return the sentence to the original input form.\n",
        "\n",
        "- d.\tCount the total number of occurrences of character ‘t’  in the string.\n",
        "\n",
        "- e.\tReplace all occurrences of “Python” with “Machine Learning”  in the input string strM = “Python beginner tutorial”\n",
        "\n",
        "\n"
      ],
      "metadata": {
        "id": "iNOuZLOtpofq"
      }
    },
    {
      "cell_type": "markdown",
      "source": [],
      "metadata": {
        "id": "r99yC_VrprGE"
      }
    },
    {
      "cell_type": "markdown",
      "source": [
        "#a. Convert the sentence to uppercase."
      ],
      "metadata": {
        "id": "Gnhls2CoqH3a"
      }
    },
    {
      "cell_type": "code",
      "source": [
        " strM = \"Python beginner tutorial\"\n",
        "\n",
        " strM.upper()\n"
      ],
      "metadata": {
        "colab": {
          "base_uri": "https://localhost:8080/",
          "height": 35
        },
        "id": "XXzdjIEepr4n",
        "outputId": "e6befc81-d233-4536-d268-c0ee7096698f"
      },
      "execution_count": null,
      "outputs": [
        {
          "output_type": "execute_result",
          "data": {
            "text/plain": [
              "'PYTHON BEGINNER TUTORIAL'"
            ],
            "application/vnd.google.colaboratory.intrinsic+json": {
              "type": "string"
            }
          },
          "metadata": {},
          "execution_count": 25
        }
      ]
    },
    {
      "cell_type": "markdown",
      "source": [
        "#b. Convert the sentence to lowercase.\n",
        "\n"
      ],
      "metadata": {
        "id": "lGfkMgpTsneu"
      }
    },
    {
      "cell_type": "code",
      "source": [
        " strM = \"Python beginner tutorial\"\n",
        "\n",
        " strM.lower()"
      ],
      "metadata": {
        "colab": {
          "base_uri": "https://localhost:8080/",
          "height": 35
        },
        "id": "7JKl1T9ysppk",
        "outputId": "89dbcf02-3177-4aef-bf18-3f8cd3b222a8"
      },
      "execution_count": null,
      "outputs": [
        {
          "output_type": "execute_result",
          "data": {
            "text/plain": [
              "'python beginner tutorial'"
            ],
            "application/vnd.google.colaboratory.intrinsic+json": {
              "type": "string"
            }
          },
          "metadata": {},
          "execution_count": 26
        }
      ]
    },
    {
      "cell_type": "markdown",
      "source": [
        "#c. Use Capitalize and return the sentence to the original input form."
      ],
      "metadata": {
        "id": "T9QIAVf_s2Kz"
      }
    },
    {
      "cell_type": "code",
      "source": [
        " strM = \"Python beginner tutorial\"\n",
        "\n",
        " strM.capitalize()"
      ],
      "metadata": {
        "colab": {
          "base_uri": "https://localhost:8080/",
          "height": 35
        },
        "id": "mYQVZi-gs-yl",
        "outputId": "a8271f10-785a-4bb3-d943-82f235ac94df"
      },
      "execution_count": null,
      "outputs": [
        {
          "output_type": "execute_result",
          "data": {
            "text/plain": [
              "'Python beginner tutorial'"
            ],
            "application/vnd.google.colaboratory.intrinsic+json": {
              "type": "string"
            }
          },
          "metadata": {},
          "execution_count": 27
        }
      ]
    },
    {
      "cell_type": "markdown",
      "source": [
        "#d. Count the total number of occurrences of character ‘t’ in the string"
      ],
      "metadata": {
        "id": "215Do_ogtrrJ"
      }
    },
    {
      "cell_type": "code",
      "source": [
        " strM = \"Python beginner tutorial\"\n",
        "\n",
        " strM.count(\"t\")"
      ],
      "metadata": {
        "colab": {
          "base_uri": "https://localhost:8080/"
        },
        "id": "MZvqnPOjt1cQ",
        "outputId": "47b061ab-6794-43af-d64b-4a3f208295f7"
      },
      "execution_count": null,
      "outputs": [
        {
          "output_type": "execute_result",
          "data": {
            "text/plain": [
              "3"
            ]
          },
          "metadata": {},
          "execution_count": 28
        }
      ]
    },
    {
      "cell_type": "markdown",
      "source": [
        "#e. Replace all occurrences of “Python” with “Machine Learning” in the input string strM = “Python beginner tutorial”\n",
        "\n"
      ],
      "metadata": {
        "id": "yvtgNSJvuRKE"
      }
    },
    {
      "cell_type": "code",
      "source": [
        " strM = \"Python beginner tutorial\"\n",
        "\n",
        " strM.replace(\"Python\",\"Machine Learning\" )"
      ],
      "metadata": {
        "colab": {
          "base_uri": "https://localhost:8080/",
          "height": 35
        },
        "id": "kVyhilJFuS5S",
        "outputId": "790b686f-9936-43ab-d3f3-710eefbefda4"
      },
      "execution_count": null,
      "outputs": [
        {
          "output_type": "execute_result",
          "data": {
            "text/plain": [
              "'Machine Learning beginner tutorial'"
            ],
            "application/vnd.google.colaboratory.intrinsic+json": {
              "type": "string"
            }
          },
          "metadata": {},
          "execution_count": 29
        }
      ]
    },
    {
      "cell_type": "markdown",
      "source": [
        "#Tuples (Creation, Modification and Access) :\n",
        "\n"
      ],
      "metadata": {
        "id": "jsu4hmi9u2oG"
      }
    },
    {
      "cell_type": "markdown",
      "source": [
        "Create 1st tuple with values -> (10, 20, 30), 2nd tuple with values -> (40, 50, 60):\n",
        "\n",
        "- a. Concatenate the two tuples and store it in “t_combine”\n",
        "\n",
        "- b. Repeat the elements of “t_combine” 3 times\n",
        "\n",
        "- c. Access the 3rd element from “t_combine”\n",
        "\n",
        "- d. Access the first three elements from “t_combine”\n",
        "\n",
        "- e. Access the last three elements from “t_combine”\n"
      ],
      "metadata": {
        "id": "mcchWLHxvZ-6"
      }
    },
    {
      "cell_type": "markdown",
      "source": [
        "#a. Concatenate the two tuples and store it in “t_combine”"
      ],
      "metadata": {
        "id": "beldYiKyvpQq"
      }
    },
    {
      "cell_type": "code",
      "source": [
        "tuple1 = (10, 20, 30)\n",
        "tuple2 = (40, 50, 60)\n",
        "t_combine = tuple1 + tuple2\n",
        "print(t_combine)"
      ],
      "metadata": {
        "colab": {
          "base_uri": "https://localhost:8080/"
        },
        "id": "_ZhhSET5vore",
        "outputId": "2347f244-b9a6-468c-f89a-1f5ba7e592fe"
      },
      "execution_count": null,
      "outputs": [
        {
          "output_type": "stream",
          "name": "stdout",
          "text": [
            "(10, 20, 30, 40, 50, 60)\n"
          ]
        }
      ]
    },
    {
      "cell_type": "markdown",
      "source": [
        "#b. Repeat the elements of “t_combine” 3 times"
      ],
      "metadata": {
        "id": "ZRVfC9ttwkpI"
      }
    },
    {
      "cell_type": "code",
      "source": [
        "t_combine*3"
      ],
      "metadata": {
        "colab": {
          "base_uri": "https://localhost:8080/"
        },
        "id": "wJ9x1N1ZwnS0",
        "outputId": "727f6f8c-c15e-453b-91db-ecb027c7a8d1"
      },
      "execution_count": null,
      "outputs": [
        {
          "output_type": "execute_result",
          "data": {
            "text/plain": [
              "(10, 20, 30, 40, 50, 60, 10, 20, 30, 40, 50, 60, 10, 20, 30, 40, 50, 60)"
            ]
          },
          "metadata": {},
          "execution_count": 36
        }
      ]
    },
    {
      "cell_type": "markdown",
      "source": [
        "#c. Access the 3rd element from “t_combine”"
      ],
      "metadata": {
        "id": "dgNxay7Dw-FS"
      }
    },
    {
      "cell_type": "code",
      "source": [
        "t_combine[2]"
      ],
      "metadata": {
        "colab": {
          "base_uri": "https://localhost:8080/"
        },
        "id": "qJMfUFxtxFbY",
        "outputId": "0fd02d74-7353-4c37-864a-07aea2fd4ab2"
      },
      "execution_count": null,
      "outputs": [
        {
          "output_type": "execute_result",
          "data": {
            "text/plain": [
              "30"
            ]
          },
          "metadata": {},
          "execution_count": 39
        }
      ]
    },
    {
      "cell_type": "markdown",
      "source": [
        "#d. Access the first three elements from “t_combine”"
      ],
      "metadata": {
        "id": "nFbbHZeryAmk"
      }
    },
    {
      "cell_type": "code",
      "source": [
        "t_combine[0:3]"
      ],
      "metadata": {
        "colab": {
          "base_uri": "https://localhost:8080/"
        },
        "id": "J4ye5UHxyU89",
        "outputId": "e274392e-3804-4e43-f957-ba9842d9a6a6"
      },
      "execution_count": null,
      "outputs": [
        {
          "output_type": "execute_result",
          "data": {
            "text/plain": [
              "(10, 20, 30)"
            ]
          },
          "metadata": {},
          "execution_count": 41
        }
      ]
    },
    {
      "cell_type": "markdown",
      "source": [
        "#e. Access the last three elements from “t_combine”"
      ],
      "metadata": {
        "id": "J1RjvCnJyh7v"
      }
    },
    {
      "cell_type": "code",
      "source": [
        "t_combine[3:]"
      ],
      "metadata": {
        "colab": {
          "base_uri": "https://localhost:8080/"
        },
        "id": "809GI5EkykNS",
        "outputId": "6ea5d507-f311-4595-b7fa-28925b068fd9"
      },
      "execution_count": null,
      "outputs": [
        {
          "output_type": "execute_result",
          "data": {
            "text/plain": [
              "(40, 50, 60)"
            ]
          },
          "metadata": {},
          "execution_count": 49
        }
      ]
    }
  ]
}