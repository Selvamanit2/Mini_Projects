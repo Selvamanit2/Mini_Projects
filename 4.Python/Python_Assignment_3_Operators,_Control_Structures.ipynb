{
  "nbformat": 4,
  "nbformat_minor": 0,
  "metadata": {
    "colab": {
      "provenance": []
    },
    "kernelspec": {
      "name": "python3",
      "display_name": "Python 3"
    },
    "language_info": {
      "name": "python"
    }
  },
  "cells": [
    {
      "cell_type": "markdown",
      "source": [
        "###Operators & Conditional Statements :\n",
        "(IF, ELIF, ELSE)\n"
      ],
      "metadata": {
        "id": "Oo2rLPAOy7JS"
      }
    },
    {
      "cell_type": "markdown",
      "source": [
        "\n",
        "##Problem Statement:\n",
        " Create a Python program that calculates and displays the performance category based on the score input by the user. The program should determine the performance category using conditional statements and operators.\n",
        "\n",
        "Step wise Instructions:\n",
        "\n",
        "1.\tPrompt user for Input. Score range should be from 0 to 10(both inclusive).\n"
      ],
      "metadata": {
        "id": "7UGbcWjKy_-j"
      }
    },
    {
      "cell_type": "markdown",
      "source": [
        "2.\tFind the performance category based on the input score using following criteria:\n",
        "a.\tAbove Average:  Score greater than 7\n",
        "b.\tAverage: Score between 4 and 7(both inclusive)\n",
        "c.\tBelow Average: Score lesser than 4\n",
        "      3. Output: Print the Performance category\n",
        "      4. Additional Step: You can give a prompt of your choice to each category.\n",
        "For eg: If score below average “Need to Improve your performance, consistent practice will lead to better results”.\n",
        "\n",
        "Hint: Make use of Comparison Operators and Conditional Statements. Use proper indentation and make sure to add comments to explain your code\n"
      ],
      "metadata": {
        "id": "KWvB6kzp1GjD"
      }
    },
    {
      "cell_type": "code",
      "source": [
        "#Prompt user for Input. Score range should be from 0 to 10(both inclusive).\n",
        "user = int(input('enter your score :'))\n",
        "\n",
        "if user>7: #Above Average: Score greater than 7\n",
        "   print(\"Performance category: Above Average\")\n",
        "   print(\"Great job! keep up the excellent work!\")\n",
        "elif 4 <= user <=7: #Average: Score between 4 and 7(both inclusive)\n",
        "  print(\"Performance category: Average\")\n",
        "  print(\"Good effort! Keep practicing, there's room for improvement\")\n",
        "else: # score blow average\n",
        "   print(\"Performance category: Below Average\")\n",
        "   print(\"Need to Improve your performance, consistent practice will lead to better results\")\n"
      ],
      "metadata": {
        "colab": {
          "base_uri": "https://localhost:8080/"
        },
        "id": "jMjrNa7mzRCY",
        "outputId": "fe89e29c-3300-4bad-e97b-2a0f68638111"
      },
      "execution_count": null,
      "outputs": [
        {
          "output_type": "stream",
          "name": "stdout",
          "text": [
            "enter your score :9\n",
            "Performance category: Above Average\n",
            "Great job! keep up the excellent work!\n"
          ]
        }
      ]
    },
    {
      "cell_type": "markdown",
      "source": [
        "###While loop & Control Statements :\n",
        "(else, break, continue, pass)\n",
        "\n",
        "Number Guessing Game\n",
        "\n",
        "Problem Statement: Create a Python program that implements a simple number guessing game using a while loop. The program should make use of control statements such as else, break, and continue.\n",
        "Instructions:\n",
        "1.\tSet Up the Game:\n",
        "★\tGenerate a random number between 1 and 10 that the user has to guess. Import random and use randint function\n",
        "\n",
        "2.\tPrompt the User:\n",
        "★\tAsk the user to guess the number.\n",
        "★\tSet a variable attempts to 3, which represents the maximum number of guesses allowed.\n",
        "3.\tImplement the Guessing Logic:\n",
        "★\tUse a while loop to allow the user to keep guessing until they get the correct number or run out of attempts.\n",
        "★\tProvide feedback to the user for each guess:\n",
        "➢\tIf the guess is out of the valid range (1 to 10), inform the user.\n",
        "➢\tIf the guess is greater than the secret number.\n",
        "➢\tIf the guess is lower than the secret number.\n",
        "➢\tIf the guess is correct, congratulate the user and end the game.\n",
        "4.\tControl Statements:\n",
        "★\tUse continue to skip the rest of the loop after informing the user if the guess is out of range.\n",
        "★\tUse break to exit the loop when the guess is correct.\n",
        "★\tUse else with the while loop to provide a message like \"Better luck next time!\" if the user runs out of attempts without guessing the correct number.\n"
      ],
      "metadata": {
        "id": "A2z9urTZ-cKZ"
      }
    },
    {
      "cell_type": "code",
      "source": [
        "import random\n",
        "  # Generate random number between 1 and 10\n",
        "secret_number = random.randint(1, 10)\n",
        "attempts = 3\n",
        "while attempts>0:\n",
        "  user = int(input('enter random number:'))\n",
        "  attempts =  attempts -1\n",
        "  if user>10:\n",
        "     print(f\"Your guess is out of range. Please guess a number between 1 and 10 Attempts Remaining - {attempts}\")\n",
        "     continue\n",
        "  elif user >secret_number:\n",
        "     print(f\"Too high. Try again Attempts Remaining - {attempts}\")\n",
        "  elif user <secret_number:\n",
        "     print(f\"Too low. Try again Attempts Remaining - {attempts}\")\n",
        "  elif user == secret_number:\n",
        "    print(f\"Congratulations! You guessed the correct number\")\n",
        "    break\n",
        "else:\n",
        "  print(\"Better luck next time!\")\n"
      ],
      "metadata": {
        "colab": {
          "base_uri": "https://localhost:8080/"
        },
        "id": "goN4A1wr7gc-",
        "outputId": "f6ebe02c-aeaf-41f2-b637-1d09714757d4"
      },
      "execution_count": null,
      "outputs": [
        {
          "output_type": "stream",
          "name": "stdout",
          "text": [
            "enter random number:5\n",
            "Too low. Try again Attempts Remaining - 2\n",
            "enter random number:7\n",
            "Too low. Try again Attempts Remaining - 1\n",
            "enter random number:3\n",
            "Too low. Try again Attempts Remaining - 0\n",
            "Better luck next time!\n"
          ]
        }
      ]
    }
  ]
}