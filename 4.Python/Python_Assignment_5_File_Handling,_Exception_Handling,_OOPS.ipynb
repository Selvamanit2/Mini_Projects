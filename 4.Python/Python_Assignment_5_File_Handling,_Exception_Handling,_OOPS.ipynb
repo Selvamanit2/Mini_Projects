{
  "cells": [
    {
      "cell_type": "markdown",
      "metadata": {
        "id": "nBItjATsflIT"
      },
      "source": [
        "###File Handling:  \n",
        "\n",
        "Problem Statement: Create a Python program that performs the following tasks:\n",
        "1.\tReads data from a text file.\n",
        "2.\tProcesses the data.\n",
        "3.\tWrites the processed data to a new text file.\n"
      ]
    },
    {
      "cell_type": "markdown",
      "metadata": {
        "id": "A-V7SOHsmCOO"
      },
      "source": [
        "1)\tWrite:\n",
        "➢\tPrompt the user to enter their name, age, and favorite color. Save this information to a text file named user_info.txt.\n"
      ]
    },
    {
      "cell_type": "code",
      "execution_count": null,
      "metadata": {
        "id": "sgtDgKqOj_16"
      },
      "outputs": [],
      "source": [
        "file_path =\"/tmp/user_info.txt\"\n",
        "mode = 'w'\n",
        "with open(file_path,mode) as f1:\n",
        "  input_content = \"name:selva mani\\n age:25\\n colour: blue\\n\"\n",
        "  f1.write(input_content)"
      ]
    },
    {
      "cell_type": "markdown",
      "metadata": {
        "id": "EnDNytn9mJmF"
      },
      "source": [
        "2)\tRead:\n",
        "➢\tRead the content of user_info.txt and display it on the console.\n",
        "\n"
      ]
    },
    {
      "cell_type": "code",
      "execution_count": null,
      "metadata": {
        "id": "mAQYvNXImLW1"
      },
      "outputs": [],
      "source": [
        "file_path =\"/tmp/user_info.txt\"\n",
        "mode = 'r'\n",
        "f1 = open(file_path,mode)"
      ]
    },
    {
      "cell_type": "code",
      "execution_count": null,
      "metadata": {
        "colab": {
          "base_uri": "https://localhost:8080/"
        },
        "id": "qNM289-5mTq7",
        "outputId": "240b5bc9-8120-47c1-acfd-4d14bf8759d8"
      },
      "outputs": [
        {
          "name": "stdout",
          "output_type": "stream",
          "text": [
            "name:selva mani\n",
            " age:25\n",
            " colour: blue\n",
            "\n"
          ]
        }
      ],
      "source": [
        "content = f1.read()\n",
        "print(content)"
      ]
    },
    {
      "cell_type": "markdown",
      "metadata": {
        "id": "2AAEr9ZGmbXN"
      },
      "source": [
        "3)\tAppend:\n",
        "➢\tPrompt the user to enter their favorite movie and append this new piece of information to the file user_info.txt.\n"
      ]
    },
    {
      "cell_type": "code",
      "execution_count": null,
      "metadata": {
        "id": "eVk8Tdb7meaH"
      },
      "outputs": [],
      "source": [
        "file_path =\"/tmp/user_info.txt\"\n",
        "mode = 'a'\n",
        "with open(file_path,mode) as f1:\n",
        "  input_content = \"favorite_movie : 3 \"\n",
        "  f1.write(input_content)"
      ]
    },
    {
      "cell_type": "code",
      "execution_count": null,
      "metadata": {
        "id": "MkmblADDnubk"
      },
      "outputs": [],
      "source": [
        "file_path =\"/tmp/user_info.txt\"\n",
        "mode = 'r'\n",
        "f1 = open(file_path,mode)"
      ]
    },
    {
      "cell_type": "code",
      "execution_count": null,
      "metadata": {
        "colab": {
          "base_uri": "https://localhost:8080/"
        },
        "id": "mq4fc0T4n0uH",
        "outputId": "05f64b06-2bbf-414a-8e0e-ce66ae65c38e"
      },
      "outputs": [
        {
          "name": "stdout",
          "output_type": "stream",
          "text": [
            "name:selva mani\n",
            " age:25\n",
            " colour: blue\n",
            "favorite_movie : 3 \n"
          ]
        }
      ],
      "source": [
        "content = f1.read()\n",
        "print(content)"
      ]
    },
    {
      "cell_type": "markdown",
      "metadata": {
        "id": "FmiWZCZooDvk"
      },
      "source": [
        "4)\tReadlines:\n",
        "➢\tRead all the lines from user_info.txt and display each line on the console, one by one\n"
      ]
    },
    {
      "cell_type": "code",
      "execution_count": null,
      "metadata": {
        "id": "VDbdoB6CoFCY"
      },
      "outputs": [],
      "source": [
        "file_path =\"/tmp/user_info.txt\"\n",
        "mode = 'r'\n",
        "f1 = open(file_path,mode)"
      ]
    },
    {
      "cell_type": "code",
      "execution_count": null,
      "metadata": {
        "colab": {
          "base_uri": "https://localhost:8080/"
        },
        "id": "IWh6EB0YqAjv",
        "outputId": "36d83ee8-07a1-4d70-d2b6-eaea28b98456"
      },
      "outputs": [
        {
          "name": "stdout",
          "output_type": "stream",
          "text": [
            "['name:selva mani\\n', ' age:25\\n', ' colour: blue\\n', 'favorite_movie : 3 ']\n"
          ]
        }
      ],
      "source": [
        "content = f1.readlines()\n",
        "print(content)"
      ]
    },
    {
      "cell_type": "markdown",
      "metadata": {
        "id": "pbIOlwavqqzo"
      },
      "source": [
        "###Exception Handling:  \n",
        "Problem Statement: Create a Python program that converts a temperature from Celsius to Fahrenheit by performing the following tasks:\n"
      ]
    },
    {
      "cell_type": "markdown",
      "metadata": {
        "id": "kh0JAOj87QQ0"
      },
      "source": [
        "Step wise Instructions:\n",
        "\n",
        "1) Prompting for User Input:\n"
      ]
    },
    {
      "cell_type": "markdown",
      "metadata": {
        "id": "CttaeYK08txy"
      },
      "source": [
        "2) Converting Celsius to Fahrenheit:\n"
      ]
    },
    {
      "cell_type": "code",
      "execution_count": null,
      "metadata": {
        "colab": {
          "base_uri": "https://localhost:8080/"
        },
        "id": "xkz_e5YX7P8j",
        "outputId": "1b07afd5-44a9-490d-83cf-470766365014"
      },
      "outputs": [
        {
          "name": "stdout",
          "output_type": "stream",
          "text": [
            "enter a temperature in Celsius:45.3\n",
            "45.3°C is equal to 113.53999999999999°F\n"
          ]
        }
      ],
      "source": [
        "celsius = float(input(\"enter a temperature in Celsius:\"))\n",
        "fahrenheit = (celsius * 9/5) + 32\n",
        "print(f\"{celsius}°C is equal to {fahrenheit}°F\")\n",
        "\n"
      ]
    },
    {
      "cell_type": "markdown",
      "metadata": {
        "id": "6Kos3jIw830v"
      },
      "source": [
        "3) Handling Exceptions:"
      ]
    },
    {
      "cell_type": "code",
      "execution_count": null,
      "metadata": {
        "colab": {
          "background_save": true,
          "base_uri": "https://localhost:8080/",
          "height": 148
        },
        "id": "S2jNVz1T87h7",
        "outputId": "da7f1016-607d-4595-cb65-eafa5e0b6342"
      },
      "outputs": [
        {
          "ename": "SyntaxError",
          "evalue": "invalid decimal literal (<ipython-input-1-8a950df52bb2>, line 1)",
          "output_type": "error",
          "traceback": [
            "\u001b[0;36m  File \u001b[0;32m\"<ipython-input-1-8a950df52bb2>\"\u001b[0;36m, line \u001b[0;32m1\u001b[0m\n\u001b[0;31m    6.7celsius =input(\"enter a temperature in Celsius:\")\u001b[0m\n\u001b[0m      ^\u001b[0m\n\u001b[0;31mSyntaxError\u001b[0m\u001b[0;31m:\u001b[0m invalid decimal literal\n"
          ]
        }
      ],
      "source": [
        "6.7celsius =input(\"enter a temperature in Celsius:\")\n",
        "try:\n",
        "  celsius = float(celsius)\n",
        "  fahrenheit = (celsius * 9/5) + 32\n",
        "except ZeroDivisionError:\n",
        "  print(\"division by zero is not allowed.\")\n",
        "except TypeError:\n",
        "  print(\"arithmetic operations cannot be performed on incompatible types.\")\n",
        "except ValueError:\n",
        "  print(\"the input should be a numeric value.\")\n",
        "except Exception as e:\n",
        "  print(f\"unexpected error occurred.\",{e})\n",
        "else:\n",
        "  print(f\"Fahrenheit temperature: {fahrenheit}°F\")\n",
        "finally:\n",
        "  print(\"the end of the program\")"
      ]
    },
    {
      "cell_type": "code",
      "execution_count": null,
      "metadata": {
        "id": "TrsCXemqE4pU"
      },
      "outputs": [],
      "source": []
    }
  ],
  "metadata": {
    "colab": {
      "provenance": []
    },
    "kernelspec": {
      "display_name": "Python 3",
      "name": "python3"
    },
    "language_info": {
      "name": "python"
    }
  },
  "nbformat": 4,
  "nbformat_minor": 0
}