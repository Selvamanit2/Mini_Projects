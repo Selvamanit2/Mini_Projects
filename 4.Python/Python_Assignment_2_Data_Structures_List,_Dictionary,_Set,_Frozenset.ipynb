{
  "nbformat": 4,
  "nbformat_minor": 0,
  "metadata": {
    "colab": {
      "provenance": [],
      "toc_visible": true
    },
    "kernelspec": {
      "name": "python3",
      "display_name": "Python 3"
    },
    "language_info": {
      "name": "python"
    }
  },
  "cells": [
    {
      "cell_type": "markdown",
      "source": [
        "#List (Creation, Modification and Access):\n",
        "\n",
        "###1. List Creation:\n"
      ],
      "metadata": {
        "id": "qonzIFTfAKQj"
      }
    },
    {
      "cell_type": "markdown",
      "source": [
        "a.\tCreate a list named age_list with five integer elements. For eg., [24, 25, 26, 27, 28]\n",
        "\n",
        "b.\tCreate a list named name_list with five string elements.\n"
      ],
      "metadata": {
        "id": "S1Y9FWCmAek-"
      }
    },
    {
      "cell_type": "code",
      "execution_count": null,
      "metadata": {
        "id": "j0_lPJ4c_3BV"
      },
      "outputs": [],
      "source": [
        "age_list =[24,25,26,27,28]\n",
        "name_list =['selva','rahul','vimal','logi','prakash']"
      ]
    },
    {
      "cell_type": "markdown",
      "source": [
        "##2. List Operations / Modifications:\n",
        "a.\tAppend the string \"Yazhini\" to name_list."
      ],
      "metadata": {
        "id": "6tGR-KoXBczw"
      }
    },
    {
      "cell_type": "code",
      "source": [
        "name_list.append(\"Yazhini\" )\n",
        "name_list"
      ],
      "metadata": {
        "colab": {
          "base_uri": "https://localhost:8080/"
        },
        "id": "zD6hgFItBaRx",
        "outputId": "c4d51a0f-53af-4e8d-e8bc-d47b19779fb5"
      },
      "execution_count": null,
      "outputs": [
        {
          "output_type": "execute_result",
          "data": {
            "text/plain": [
              "['selva', 'rahul', 'vimal', 'logi', 'prakash', 'Yazhini', 'Yazhini']"
            ]
          },
          "metadata": {},
          "execution_count": 5
        }
      ]
    },
    {
      "cell_type": "markdown",
      "source": [
        "b.\tInsert the element 30 at index 2 in age_list"
      ],
      "metadata": {
        "id": "8-ucx5oMGdgF"
      }
    },
    {
      "cell_type": "code",
      "source": [
        "age_list.insert(2,30)\n",
        "age_list"
      ],
      "metadata": {
        "colab": {
          "base_uri": "https://localhost:8080/"
        },
        "id": "PGMyhWGVGheu",
        "outputId": "180068e8-31b0-4082-9bcd-37677a48f9d7"
      },
      "execution_count": null,
      "outputs": [
        {
          "output_type": "execute_result",
          "data": {
            "text/plain": [
              "[24, 25, 30, 30, 27, 28]"
            ]
          },
          "metadata": {},
          "execution_count": 14
        }
      ]
    },
    {
      "cell_type": "markdown",
      "source": [
        "c.\tRemove the string \"Yazhini\" from name_list."
      ],
      "metadata": {
        "id": "UepWppkBI0xM"
      }
    },
    {
      "cell_type": "code",
      "source": [
        "name_list.remove('Yazhini' )\n",
        "name_list"
      ],
      "metadata": {
        "colab": {
          "base_uri": "https://localhost:8080/"
        },
        "id": "FOwOzsW6I0Yd",
        "outputId": "be4c1a76-9edb-447f-8bdf-84bebe3ce836"
      },
      "execution_count": null,
      "outputs": [
        {
          "output_type": "execute_result",
          "data": {
            "text/plain": [
              "['selva', 'rahul', 'vimal', 'logi', 'prakash']"
            ]
          },
          "metadata": {},
          "execution_count": 16
        }
      ]
    },
    {
      "cell_type": "markdown",
      "source": [
        "d.\tPop the last element from age_list."
      ],
      "metadata": {
        "id": "B-bDUn9DJC_I"
      }
    },
    {
      "cell_type": "code",
      "source": [
        "age_list.pop(-1)\n",
        "age_list"
      ],
      "metadata": {
        "colab": {
          "base_uri": "https://localhost:8080/"
        },
        "id": "vWNUaysIJFeM",
        "outputId": "6730057e-4eb9-4744-dafd-ac442aecfc58"
      },
      "execution_count": null,
      "outputs": [
        {
          "output_type": "execute_result",
          "data": {
            "text/plain": [
              "[24, 25, 30, 30, 27]"
            ]
          },
          "metadata": {},
          "execution_count": 17
        }
      ]
    },
    {
      "cell_type": "markdown",
      "source": [
        "e.\tExtend the age_list with additional ages [29, 30, 26]."
      ],
      "metadata": {
        "id": "MwJtOjmtKflZ"
      }
    },
    {
      "cell_type": "code",
      "source": [
        "age = [29,30,26]\n",
        "age_list.extend(age)\n",
        "age_list"
      ],
      "metadata": {
        "colab": {
          "base_uri": "https://localhost:8080/"
        },
        "id": "Iy7xiDxmKkJe",
        "outputId": "d925e43f-981c-4525-84b1-96678929e625"
      },
      "execution_count": null,
      "outputs": [
        {
          "output_type": "execute_result",
          "data": {
            "text/plain": [
              "[24, 25, 30, 30, 27, 29, 30, 26]"
            ]
          },
          "metadata": {},
          "execution_count": 20
        }
      ]
    },
    {
      "cell_type": "markdown",
      "source": [
        "f.\tSort age_list in descending order"
      ],
      "metadata": {
        "id": "ThMPEKy-LxWt"
      }
    },
    {
      "cell_type": "code",
      "source": [
        "\n",
        "age_list.sort(reverse=True)\n",
        "age_list"
      ],
      "metadata": {
        "colab": {
          "base_uri": "https://localhost:8080/"
        },
        "id": "gAdVhxhJL1-b",
        "outputId": "6850810b-0ea3-4eda-cde3-dfa24bfb7664"
      },
      "execution_count": null,
      "outputs": [
        {
          "output_type": "execute_result",
          "data": {
            "text/plain": [
              "[30, 30, 30, 29, 27, 26, 25, 24]"
            ]
          },
          "metadata": {},
          "execution_count": 22
        }
      ]
    },
    {
      "cell_type": "markdown",
      "source": [
        "g.\tFind Max age, Min age and sum of all ages from age_list."
      ],
      "metadata": {
        "id": "MGgc86Z4NTU3"
      }
    },
    {
      "cell_type": "code",
      "source": [
        "max(age_list)"
      ],
      "metadata": {
        "colab": {
          "base_uri": "https://localhost:8080/"
        },
        "id": "M4vQcDd-NXYE",
        "outputId": "036bfb79-2759-4191-d86f-919b0e38573b"
      },
      "execution_count": null,
      "outputs": [
        {
          "output_type": "execute_result",
          "data": {
            "text/plain": [
              "30"
            ]
          },
          "metadata": {},
          "execution_count": 27
        }
      ]
    },
    {
      "cell_type": "code",
      "source": [
        "min(age_list)"
      ],
      "metadata": {
        "colab": {
          "base_uri": "https://localhost:8080/"
        },
        "id": "DtXgL0L9ONHA",
        "outputId": "ab491799-dc04-4b83-9160-e22e86bff387"
      },
      "execution_count": null,
      "outputs": [
        {
          "output_type": "execute_result",
          "data": {
            "text/plain": [
              "24"
            ]
          },
          "metadata": {},
          "execution_count": 28
        }
      ]
    },
    {
      "cell_type": "code",
      "source": [
        "sum(age_list)"
      ],
      "metadata": {
        "colab": {
          "base_uri": "https://localhost:8080/"
        },
        "id": "WtBPdUzLOSnQ",
        "outputId": "27ab23d3-3666-46f1-add8-205a244f5328"
      },
      "execution_count": null,
      "outputs": [
        {
          "output_type": "execute_result",
          "data": {
            "text/plain": [
              "221"
            ]
          },
          "metadata": {},
          "execution_count": 29
        }
      ]
    },
    {
      "cell_type": "markdown",
      "source": [
        "h.\tMake a copy of age_list and store as age_list_copy"
      ],
      "metadata": {
        "id": "RpOnQCpKObWQ"
      }
    },
    {
      "cell_type": "code",
      "source": [
        "age_list_copy = age_list.copy()\n",
        "age_list_copy"
      ],
      "metadata": {
        "colab": {
          "base_uri": "https://localhost:8080/"
        },
        "id": "E5yOKMSbOctW",
        "outputId": "44f8fb50-cc66-430b-c2e4-2ec2e19cf7ec"
      },
      "execution_count": null,
      "outputs": [
        {
          "output_type": "execute_result",
          "data": {
            "text/plain": [
              "[30, 30, 30, 29, 27, 26, 25, 24]"
            ]
          },
          "metadata": {},
          "execution_count": 44
        }
      ]
    },
    {
      "cell_type": "markdown",
      "source": [
        "i.\tClear all elements from age_list_copy."
      ],
      "metadata": {
        "id": "wbwV90dRQnCa"
      }
    },
    {
      "cell_type": "code",
      "source": [
        "del age_list_copy"
      ],
      "metadata": {
        "id": "ET7Q6cGNQrUQ"
      },
      "execution_count": null,
      "outputs": []
    },
    {
      "cell_type": "code",
      "source": [
        "age_list"
      ],
      "metadata": {
        "colab": {
          "base_uri": "https://localhost:8080/"
        },
        "id": "V3uBXmMeR2zk",
        "outputId": "61b3940d-e47d-4199-dda7-88b3c83fb8e0"
      },
      "execution_count": null,
      "outputs": [
        {
          "output_type": "execute_result",
          "data": {
            "text/plain": [
              "[30, 30, 30, 29, 27, 26, 25, 24]"
            ]
          },
          "metadata": {},
          "execution_count": 48
        }
      ]
    },
    {
      "cell_type": "markdown",
      "source": [
        "\n",
        "###3. Accessing List Elements:\n"
      ],
      "metadata": {
        "id": "K_UHcQU1SH4e"
      }
    },
    {
      "cell_type": "markdown",
      "source": [
        "a.\tPrint the first element of name_list."
      ],
      "metadata": {
        "id": "gMWqocH4STmW"
      }
    },
    {
      "cell_type": "code",
      "source": [
        "name_list =['selva','rahul','vimal','logi','prakash']\n",
        "name_list[0]"
      ],
      "metadata": {
        "colab": {
          "base_uri": "https://localhost:8080/",
          "height": 35
        },
        "id": "KDo0jOuoSS_I",
        "outputId": "f6ec9579-2f7c-40dd-a28a-a5be983b3ee2"
      },
      "execution_count": null,
      "outputs": [
        {
          "output_type": "execute_result",
          "data": {
            "text/plain": [
              "'selva'"
            ],
            "application/vnd.google.colaboratory.intrinsic+json": {
              "type": "string"
            }
          },
          "metadata": {},
          "execution_count": 49
        }
      ]
    },
    {
      "cell_type": "markdown",
      "source": [
        "b.\tPrint the last element of name_list."
      ],
      "metadata": {
        "id": "CY49qcBISkDh"
      }
    },
    {
      "cell_type": "code",
      "source": [
        "name_list =['selva','rahul','vimal','logi','prakash']\n",
        "name_list[-1]"
      ],
      "metadata": {
        "colab": {
          "base_uri": "https://localhost:8080/",
          "height": 35
        },
        "id": "OXJz2vV-SoXd",
        "outputId": "08465120-5aa8-4e8a-8a85-39d1d5ced579"
      },
      "execution_count": null,
      "outputs": [
        {
          "output_type": "execute_result",
          "data": {
            "text/plain": [
              "'prakash'"
            ],
            "application/vnd.google.colaboratory.intrinsic+json": {
              "type": "string"
            }
          },
          "metadata": {},
          "execution_count": 50
        }
      ]
    },
    {
      "cell_type": "markdown",
      "source": [
        "c.\tPrint the elements from index 2 to index 4 in name_list."
      ],
      "metadata": {
        "id": "0N-9lYSuStW5"
      }
    },
    {
      "cell_type": "code",
      "source": [
        "name_list =['selva','rahul','vimal','logi','prakash']\n",
        "name_list[2:]"
      ],
      "metadata": {
        "colab": {
          "base_uri": "https://localhost:8080/"
        },
        "id": "sI2DSMYbSwok",
        "outputId": "e97f937a-6dea-40b6-8000-dff516f9ef32"
      },
      "execution_count": null,
      "outputs": [
        {
          "output_type": "execute_result",
          "data": {
            "text/plain": [
              "['vimal', 'logi', 'prakash']"
            ]
          },
          "metadata": {},
          "execution_count": 53
        }
      ]
    },
    {
      "cell_type": "markdown",
      "source": [
        "d.\tPrint the elements of name_list in reverse order."
      ],
      "metadata": {
        "id": "vWLlShozTC62"
      }
    },
    {
      "cell_type": "code",
      "source": [
        "name_list =['selva','rahul','vimal','logi','prakash']\n",
        "name_list[::-1]"
      ],
      "metadata": {
        "colab": {
          "base_uri": "https://localhost:8080/"
        },
        "id": "QEturvu5THLw",
        "outputId": "5b5aa72b-2184-4b17-83d4-f270306de1e0"
      },
      "execution_count": null,
      "outputs": [
        {
          "output_type": "execute_result",
          "data": {
            "text/plain": [
              "['prakash', 'logi', 'vimal', 'rahul', 'selva']"
            ]
          },
          "metadata": {},
          "execution_count": 54
        }
      ]
    },
    {
      "cell_type": "markdown",
      "source": [
        "e.\tCreate a list called list_dup = [1, 2, 1, 1, 3, 1, 2, 5, 9, 1] and print the number of times element ‘1’ has occurred."
      ],
      "metadata": {
        "id": "cd3p-RJ2TNPE"
      }
    },
    {
      "cell_type": "code",
      "source": [
        "list_dup = [1, 2, 1, 1, 3, 1, 2, 5, 9, 1]\n",
        "count = list_dup.count(1)\n",
        "count"
      ],
      "metadata": {
        "colab": {
          "base_uri": "https://localhost:8080/"
        },
        "id": "rY17etcVTQs0",
        "outputId": "0abaf73a-38cb-422a-9970-d18c5b8047fc"
      },
      "execution_count": null,
      "outputs": [
        {
          "output_type": "execute_result",
          "data": {
            "text/plain": [
              "5"
            ]
          },
          "metadata": {},
          "execution_count": 58
        }
      ]
    },
    {
      "cell_type": "markdown",
      "source": [
        "f.\tPrint length of list_dup."
      ],
      "metadata": {
        "id": "Aj3q6WsYV89L"
      }
    },
    {
      "cell_type": "code",
      "source": [
        "len(list_dup)"
      ],
      "metadata": {
        "colab": {
          "base_uri": "https://localhost:8080/"
        },
        "id": "KNpzqK6qWA2m",
        "outputId": "1b383b1f-4069-431d-be7b-619d3bfb26a3"
      },
      "execution_count": null,
      "outputs": [
        {
          "output_type": "execute_result",
          "data": {
            "text/plain": [
              "10"
            ]
          },
          "metadata": {},
          "execution_count": 60
        }
      ]
    },
    {
      "cell_type": "markdown",
      "source": [
        "##Dictionary (Creation, Modification and Access):\n",
        "\n",
        "1. Dictionary Creation:\n"
      ],
      "metadata": {
        "id": "XKaHPnpkWVgm"
      }
    },
    {
      "cell_type": "markdown",
      "source": [
        "a.\tCreate a dictionary named student_marks that maps the names of five students to their marks (use scale of from 0 to 100)."
      ],
      "metadata": {
        "id": "6Gg6f7akWrWA"
      }
    },
    {
      "cell_type": "code",
      "source": [
        "student_marks = {'prakash':35,'logi':50,'vimal':60,'rahul':75,'selva':90}"
      ],
      "metadata": {
        "id": "eqxM7kGOWckQ"
      },
      "execution_count": null,
      "outputs": []
    },
    {
      "cell_type": "markdown",
      "source": [
        "b.\tAccess and print the mark of a specific student, of your choice"
      ],
      "metadata": {
        "id": "Q2Niu4GbYYf2"
      }
    },
    {
      "cell_type": "code",
      "source": [
        "student_marks['selva']"
      ],
      "metadata": {
        "colab": {
          "base_uri": "https://localhost:8080/"
        },
        "id": "OwsSvD_JYcaz",
        "outputId": "6174fd96-50d4-449c-cdc9-663a954262d7"
      },
      "execution_count": null,
      "outputs": [
        {
          "output_type": "execute_result",
          "data": {
            "text/plain": [
              "90"
            ]
          },
          "metadata": {},
          "execution_count": 69
        }
      ]
    },
    {
      "cell_type": "markdown",
      "source": [
        "2. Dictionary Modifications & Access:"
      ],
      "metadata": {
        "id": "WOxh54LEZcYH"
      }
    },
    {
      "cell_type": "markdown",
      "source": [
        "a.\tAdd a new student \"Janani\" with a mark of 80 to the student_marks dictionary"
      ],
      "metadata": {
        "id": "9Fi_LKEQZiVS"
      }
    },
    {
      "cell_type": "code",
      "source": [
        "new_student = {'Janani':80}\n",
        "student_marks.update(new_student)\n",
        "student_marks"
      ],
      "metadata": {
        "colab": {
          "base_uri": "https://localhost:8080/"
        },
        "id": "TAa-duiRZdaL",
        "outputId": "f115a250-4821-4fad-e8e3-078989e4f951"
      },
      "execution_count": null,
      "outputs": [
        {
          "output_type": "execute_result",
          "data": {
            "text/plain": [
              "{'prakash': 35,\n",
              " 'logi': 50,\n",
              " 'vimal': 60,\n",
              " 'rahul': 75,\n",
              " 'selva': 90,\n",
              " 'Janani': 80}"
            ]
          },
          "metadata": {},
          "execution_count": 71
        }
      ]
    },
    {
      "cell_type": "markdown",
      "source": [
        "b.\tUpdate the mark of any one older student to 82."
      ],
      "metadata": {
        "id": "IRQV2NOlbNBh"
      }
    },
    {
      "cell_type": "code",
      "source": [
        "student_marks['rahul']= 82\n",
        "student_marks"
      ],
      "metadata": {
        "colab": {
          "base_uri": "https://localhost:8080/"
        },
        "id": "eQgLe3lwbRvi",
        "outputId": "74bd6e5e-de52-422e-951f-2500ad430f21"
      },
      "execution_count": null,
      "outputs": [
        {
          "output_type": "execute_result",
          "data": {
            "text/plain": [
              "{'prakash': 35,\n",
              " 'logi': 50,\n",
              " 'vimal': 60,\n",
              " 'rahul': 82,\n",
              " 'selva': 90,\n",
              " 'Janani': 80}"
            ]
          },
          "metadata": {},
          "execution_count": 75
        }
      ]
    },
    {
      "cell_type": "markdown",
      "source": [
        "c.\tUse the keys(), values(), and items() methods to print all keys, values, and key-value pairs in the student_marks dictionary."
      ],
      "metadata": {
        "id": "MQuyvXyocsgi"
      }
    },
    {
      "cell_type": "code",
      "source": [
        "student_marks.keys()"
      ],
      "metadata": {
        "colab": {
          "base_uri": "https://localhost:8080/"
        },
        "id": "hwmAPvMUcxfP",
        "outputId": "c631114d-26fe-4469-8009-44c9f3d0ebd7"
      },
      "execution_count": null,
      "outputs": [
        {
          "output_type": "execute_result",
          "data": {
            "text/plain": [
              "dict_keys(['prakash', 'logi', 'vimal', 'rahul', 'selva', 'Janani'])"
            ]
          },
          "metadata": {},
          "execution_count": 80
        }
      ]
    },
    {
      "cell_type": "code",
      "source": [
        "student_marks.values()"
      ],
      "metadata": {
        "colab": {
          "base_uri": "https://localhost:8080/"
        },
        "id": "CyuyRGLmde4X",
        "outputId": "983777c1-2a7c-440e-d77f-a85e2258313b"
      },
      "execution_count": null,
      "outputs": [
        {
          "output_type": "execute_result",
          "data": {
            "text/plain": [
              "dict_values([35, 50, 60, 82, 90, 80])"
            ]
          },
          "metadata": {},
          "execution_count": 81
        }
      ]
    },
    {
      "cell_type": "code",
      "source": [
        "student_marks.items()"
      ],
      "metadata": {
        "colab": {
          "base_uri": "https://localhost:8080/"
        },
        "id": "TwSeLon0d-Iy",
        "outputId": "900d5a3f-6fdf-4f46-f90f-4a2701e5e6c5"
      },
      "execution_count": null,
      "outputs": [
        {
          "output_type": "execute_result",
          "data": {
            "text/plain": [
              "dict_items([('prakash', 35), ('logi', 50), ('vimal', 60), ('rahul', 82), ('selva', 90), ('Janani', 80)])"
            ]
          },
          "metadata": {},
          "execution_count": 82
        }
      ]
    },
    {
      "cell_type": "markdown",
      "source": [
        "##Sets & Frozensets:"
      ],
      "metadata": {
        "id": "QwXN3w1eeh3L"
      }
    },
    {
      "cell_type": "markdown",
      "source": [
        "1. Sets:"
      ],
      "metadata": {
        "id": "d7-7jAbZelZO"
      }
    },
    {
      "cell_type": "markdown",
      "source": [
        "a.\tCreate a set called my_set with following values:   \n",
        "\t['a','e','i','o','u','a','a','i']\n",
        "Analyse the output and provide explanation for the same.\n"
      ],
      "metadata": {
        "id": "6LUYdreEepo1"
      }
    },
    {
      "cell_type": "code",
      "source": [
        "my_set = {'a','e','i','o','u','a','a','i'}\n",
        "#['a','e','i','o','u','a','a','i'] this type was not set only use {} and set was unorder and do not allow duplicate element\n",
        "my_set"
      ],
      "metadata": {
        "colab": {
          "base_uri": "https://localhost:8080/"
        },
        "id": "SGLMYG13euDf",
        "outputId": "cc46e95a-42be-482d-87b9-d8c073caf1b0"
      },
      "execution_count": null,
      "outputs": [
        {
          "output_type": "execute_result",
          "data": {
            "text/plain": [
              "{'a', 'e', 'i', 'o', 'u'}"
            ]
          },
          "metadata": {},
          "execution_count": 99
        }
      ]
    },
    {
      "cell_type": "markdown",
      "source": [
        "b.Attempt to change the value of my_set[4] = 's'. If code throws an error, provide an explanation"
      ],
      "metadata": {
        "id": "zAstv6H4gkrm"
      }
    },
    {
      "cell_type": "code",
      "source": [
        "#my_set[4]='s'\n",
        "#TypeError: 'set' object does not support item assignment\n",
        "#how to change"
      ],
      "metadata": {
        "id": "K8CGBJ2jgqnY"
      },
      "execution_count": null,
      "outputs": []
    },
    {
      "cell_type": "code",
      "source": [
        "my_set.remove('o')\n",
        "my_set\n",
        "my_set.add('s')\n",
        "my_set\n"
      ],
      "metadata": {
        "colab": {
          "base_uri": "https://localhost:8080/"
        },
        "id": "W61QW_9Uj4vF",
        "outputId": "15cec7c6-dceb-48c3-e89e-42a3ee29ce8c"
      },
      "execution_count": null,
      "outputs": [
        {
          "output_type": "execute_result",
          "data": {
            "text/plain": [
              "{'a', 'e', 'i', 's', 'u'}"
            ]
          },
          "metadata": {},
          "execution_count": 100
        }
      ]
    },
    {
      "cell_type": "markdown",
      "source": [
        "c.\tCreate two sets:\n",
        "\tset1 with values: {1, 3, 5, 7, 9}\n",
        "\tset2 with values: {2, 3, 5, 8, 10}\n"
      ],
      "metadata": {
        "id": "F6VirQ8qLuSz"
      }
    },
    {
      "cell_type": "code",
      "source": [
        "set1 = {1, 3, 5, 7, 9}\n",
        "set2 = {2, 3, 5, 8, 10}"
      ],
      "metadata": {
        "id": "Er9tfVBkMwpi"
      },
      "execution_count": null,
      "outputs": []
    },
    {
      "cell_type": "markdown",
      "source": [
        "d.\tCompute the union of set1 and set2, and print the result."
      ],
      "metadata": {
        "id": "XJHswnRlM-af"
      }
    },
    {
      "cell_type": "code",
      "source": [
        "union = set1 | set2\n",
        "union"
      ],
      "metadata": {
        "colab": {
          "base_uri": "https://localhost:8080/"
        },
        "id": "5syKqr54M_wT",
        "outputId": "9db4ca50-2a58-4631-e6bc-4ccb56c65671"
      },
      "execution_count": null,
      "outputs": [
        {
          "output_type": "execute_result",
          "data": {
            "text/plain": [
              "{1, 2, 3, 5, 7, 8, 9, 10}"
            ]
          },
          "metadata": {},
          "execution_count": 6
        }
      ]
    },
    {
      "cell_type": "markdown",
      "source": [
        "e.\tPerform an intersection operation between set1 and set2, and print the result.\n",
        "\n",
        "\n"
      ],
      "metadata": {
        "id": "KFJcCXwXNT43"
      }
    },
    {
      "cell_type": "code",
      "source": [
        "intersection = set1 & set2\n",
        "intersection"
      ],
      "metadata": {
        "colab": {
          "base_uri": "https://localhost:8080/"
        },
        "id": "UmkHd6cUORYA",
        "outputId": "91f17783-3754-4e6a-9888-181ace463c84"
      },
      "execution_count": null,
      "outputs": [
        {
          "output_type": "execute_result",
          "data": {
            "text/plain": [
              "{3, 5}"
            ]
          },
          "metadata": {},
          "execution_count": 7
        }
      ]
    },
    {
      "cell_type": "markdown",
      "source": [
        "##2. Frozensets:"
      ],
      "metadata": {
        "id": "VaJrxYBfNWov"
      }
    },
    {
      "cell_type": "markdown",
      "source": [
        "a.\tCreate a frozenset named immutable_set containing the integers: 1, 2, 3, 4, 5. Print the frozenset."
      ],
      "metadata": {
        "id": "H75kza56On-0"
      }
    },
    {
      "cell_type": "code",
      "source": [
        "immutable_set = frozenset( [1, 2, 3, 4, 5])\n",
        "immutable_set\n",
        "type(immutable_set)"
      ],
      "metadata": {
        "colab": {
          "base_uri": "https://localhost:8080/"
        },
        "id": "ahu5mrpIOrSC",
        "outputId": "1e4bbfc7-9e51-49ea-beed-654decbc6931"
      },
      "execution_count": null,
      "outputs": [
        {
          "output_type": "execute_result",
          "data": {
            "text/plain": [
              "frozenset"
            ]
          },
          "metadata": {},
          "execution_count": 10
        }
      ]
    },
    {
      "cell_type": "markdown",
      "source": [
        "b.\tTry to add an element (e.g., 6) to the immutable_set frozenset. Observe and describe any exceptions that occur."
      ],
      "metadata": {
        "id": "hWsjCSRhQMOK"
      }
    },
    {
      "cell_type": "code",
      "source": [
        "immutable_set.add(6)\n",
        "#AttributeError: 'frozenset' object has no attribute 'add'"
      ],
      "metadata": {
        "colab": {
          "base_uri": "https://localhost:8080/",
          "height": 141
        },
        "id": "zyO9AMoMQNgk",
        "outputId": "30754a6f-3ed6-4db4-8acf-f56084a554ba"
      },
      "execution_count": null,
      "outputs": [
        {
          "output_type": "error",
          "ename": "AttributeError",
          "evalue": "'frozenset' object has no attribute 'add'",
          "traceback": [
            "\u001b[0;31m---------------------------------------------------------------------------\u001b[0m",
            "\u001b[0;31mAttributeError\u001b[0m                            Traceback (most recent call last)",
            "\u001b[0;32m<ipython-input-11-de729453b635>\u001b[0m in \u001b[0;36m<cell line: 0>\u001b[0;34m()\u001b[0m\n\u001b[0;32m----> 1\u001b[0;31m \u001b[0mimmutable_set\u001b[0m\u001b[0;34m.\u001b[0m\u001b[0madd\u001b[0m\u001b[0;34m(\u001b[0m\u001b[0;36m6\u001b[0m\u001b[0;34m)\u001b[0m\u001b[0;34m\u001b[0m\u001b[0;34m\u001b[0m\u001b[0m\n\u001b[0m",
            "\u001b[0;31mAttributeError\u001b[0m: 'frozenset' object has no attribute 'add'"
          ]
        }
      ]
    }
  ]
}