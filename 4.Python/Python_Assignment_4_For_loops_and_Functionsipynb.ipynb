{
  "nbformat": 4,
  "nbformat_minor": 0,
  "metadata": {
    "colab": {
      "provenance": []
    },
    "kernelspec": {
      "name": "python3",
      "display_name": "Python 3"
    },
    "language_info": {
      "name": "python"
    }
  },
  "cells": [
    {
      "cell_type": "markdown",
      "source": [
        "###For Loop:\n",
        "Multiplication Table Generator\n",
        "\n",
        "\n"
      ],
      "metadata": {
        "id": "4srBq6xVptQM"
      }
    },
    {
      "cell_type": "markdown",
      "source": [
        "Problem Statement: Create a Python program that generates and prints a multiplication table (from 1 to 10) for a given number using a for loop and the range function.\n",
        "\n",
        "Step wise Instructions:\n"
      ],
      "metadata": {
        "id": "XEaTF00DqFNJ"
      }
    },
    {
      "cell_type": "code",
      "source": [
        "number = int(input(\"Enter the number for which you want the multiplication table:\"))\n",
        "for i in range(1,11):\n",
        "  result = number * i\n",
        "  print(f\"{number} x {i} = {result}\")"
      ],
      "metadata": {
        "colab": {
          "base_uri": "https://localhost:8080/"
        },
        "id": "YDFuIDeaqHvr",
        "outputId": "f233d19c-6be5-471f-8755-022e6bc79953"
      },
      "execution_count": null,
      "outputs": [
        {
          "output_type": "stream",
          "name": "stdout",
          "text": [
            "Enter the number for which you want the multiplication table:6\n",
            "6 x 1 = 6\n",
            "6 x 2 = 12\n",
            "6 x 3 = 18\n",
            "6 x 4 = 24\n",
            "6 x 5 = 30\n",
            "6 x 6 = 36\n",
            "6 x 7 = 42\n",
            "6 x 8 = 48\n",
            "6 x 9 = 54\n",
            "6 x 10 = 60\n"
          ]
        }
      ]
    },
    {
      "cell_type": "markdown",
      "source": [
        "###Functions:\n",
        "BMI Calculator\n",
        "\n"
      ],
      "metadata": {
        "id": "xCB-bnexxXB2"
      }
    },
    {
      "cell_type": "markdown",
      "source": [
        "\n",
        "Problem Statement: Create a Python program that calculates the Body Mass Index (BMI).\n"
      ],
      "metadata": {
        "id": "nMzzv6Cqxk0s"
      }
    },
    {
      "cell_type": "code",
      "source": [
        "weight = int(input(\"Enter your weight in kg:\" ))\n",
        "height = float(input(\"Enter your height in meters:\"))\n",
        "def calculate_bmi(weight, height):\n",
        "  BMI = weight / (height**2)\n",
        "  return BMI\n",
        "BMI = calculate_bmi(weight, height)\n",
        "print(f\"Your BMI is:{BMI}\" )\n"
      ],
      "metadata": {
        "colab": {
          "base_uri": "https://localhost:8080/"
        },
        "id": "b7SIQSc1x9nw",
        "outputId": "7df56d26-7ff5-4b80-9f99-ad67710b9f64"
      },
      "execution_count": null,
      "outputs": [
        {
          "output_type": "stream",
          "name": "stdout",
          "text": [
            "Enter your weight in kg:35\n",
            "Enter your height in meters:2.6\n",
            "Your BMI is:5.177514792899408\n"
          ]
        }
      ]
    }
  ]
}