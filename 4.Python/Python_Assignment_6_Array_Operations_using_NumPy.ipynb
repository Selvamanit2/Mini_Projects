{
  "nbformat": 4,
  "nbformat_minor": 0,
  "metadata": {
    "colab": {
      "provenance": []
    },
    "kernelspec": {
      "name": "python3",
      "display_name": "Python 3"
    },
    "language_info": {
      "name": "python"
    }
  },
  "cells": [
    {
      "cell_type": "markdown",
      "source": [],
      "metadata": {
        "id": "InCTiJymw7lc"
      }
    },
    {
      "cell_type": "markdown",
      "source": [
        "###Numpy Operations:  \n",
        "\n",
        "Problem Statement: To learn how to use NumPy for creating arrays, performing basic array operations, and conducting numerical computations through analyzing temperature data.\n",
        "\n",
        "Scenario: You are given a list of daily average temperatures (in degrees Celsius) recorded over two weeks. Your task is to use NumPy to analyze this data.\n"
      ],
      "metadata": {
        "id": "bIt5B8ylxMSD"
      }
    },
    {
      "cell_type": "code",
      "execution_count": null,
      "metadata": {
        "id": "lmTDbQ-GwIkV"
      },
      "outputs": [],
      "source": [
        "import numpy as np"
      ]
    },
    {
      "cell_type": "markdown",
      "source": [
        "1.\tCreate NumPy Arrays"
      ],
      "metadata": {
        "id": "2q--8BoNxv2E"
      }
    },
    {
      "cell_type": "code",
      "source": [
        "temperatures_w1 = np.array([22.5, 25.3, 20.8, 23.4, 26.1, 24.8, 21.9])\n",
        "temperatures_w1"
      ],
      "metadata": {
        "colab": {
          "base_uri": "https://localhost:8080/"
        },
        "id": "aIYy_yVcxw_i",
        "outputId": "8661a993-179a-42f4-f1a3-393714866563"
      },
      "execution_count": null,
      "outputs": [
        {
          "output_type": "execute_result",
          "data": {
            "text/plain": [
              "array([22.5, 25.3, 20.8, 23.4, 26.1, 24.8, 21.9])"
            ]
          },
          "metadata": {},
          "execution_count": 3
        }
      ]
    },
    {
      "cell_type": "markdown",
      "source": [
        "\n",
        "2.\tInspection and Properties:\n"
      ],
      "metadata": {
        "id": "aoe9UnqwyKZn"
      }
    },
    {
      "cell_type": "code",
      "source": [
        "#\tInspect the shape of the temperatures_w1 array.\n",
        "np.shape(temperatures_w1)"
      ],
      "metadata": {
        "colab": {
          "base_uri": "https://localhost:8080/"
        },
        "id": "2sEgHnPjyNaB",
        "outputId": "00f4ce22-a57a-4787-b9b6-cfcd108f37ae"
      },
      "execution_count": null,
      "outputs": [
        {
          "output_type": "execute_result",
          "data": {
            "text/plain": [
              "(7,)"
            ]
          },
          "metadata": {},
          "execution_count": 4
        }
      ]
    },
    {
      "cell_type": "code",
      "source": [
        "#\tDetermine the data type of the temperatures_w1 array elements\n",
        "temperatures_w1.dtype"
      ],
      "metadata": {
        "colab": {
          "base_uri": "https://localhost:8080/"
        },
        "id": "UF5fivfoytHo",
        "outputId": "6c08076d-4ab6-4b56-986f-04735e2fc27a"
      },
      "execution_count": null,
      "outputs": [
        {
          "output_type": "execute_result",
          "data": {
            "text/plain": [
              "dtype('float64')"
            ]
          },
          "metadata": {},
          "execution_count": 6
        }
      ]
    },
    {
      "cell_type": "code",
      "source": [
        "#\tFind out the number of elements in the temperatures_w1 array\n",
        "temperatures_w1.size"
      ],
      "metadata": {
        "colab": {
          "base_uri": "https://localhost:8080/"
        },
        "id": "0SlK5lCPz_po",
        "outputId": "5a5396fa-f785-41f5-e86f-3816c1bb3911"
      },
      "execution_count": null,
      "outputs": [
        {
          "output_type": "execute_result",
          "data": {
            "text/plain": [
              "7"
            ]
          },
          "metadata": {},
          "execution_count": 7
        }
      ]
    },
    {
      "cell_type": "markdown",
      "source": [
        "3.\tArray Operations:"
      ],
      "metadata": {
        "id": "Pj57U4_p0WV-"
      }
    },
    {
      "cell_type": "code",
      "source": [
        "#\tConvert the temperatures_w1 from Celsius to Fahrenheit using the formula: Fahrenheit = (Celsius * 9/5) + 32\n",
        "temperatures_w1 = np.array([22.5, 25.3, 20.8, 23.4, 26.1, 24.8, 21.9])\n",
        "Fahrenheit = (temperatures_w1 * 9/5) + 32\n",
        "print(Fahrenheit)"
      ],
      "metadata": {
        "colab": {
          "base_uri": "https://localhost:8080/"
        },
        "id": "BLj9fZFy0cC1",
        "outputId": "d37c633a-023c-48d9-a2e4-05f42c391180"
      },
      "execution_count": null,
      "outputs": [
        {
          "output_type": "stream",
          "name": "stdout",
          "text": [
            "[72.5  77.54 69.44 74.12 78.98 76.64 71.42]\n"
          ]
        }
      ]
    },
    {
      "cell_type": "code",
      "source": [
        "#\tFind the maximum and minimum temperatures of the week.\n",
        "temperatures_w1 = np.array([22.5, 25.3, 20.8, 23.4, 26.1, 24.8, 21.9])\n",
        "maximum = np.max(temperatures_w1)\n",
        "print(\"maximum temperatures of the week\",maximum)\n",
        "\n",
        "minimum = np.min(temperatures_w1)\n",
        "print(\"minimum temperatures of the week\",minimum )"
      ],
      "metadata": {
        "colab": {
          "base_uri": "https://localhost:8080/"
        },
        "id": "QZhYHxHi3nj3",
        "outputId": "0dec5138-cbb3-4175-fa33-ea3cb2e4c4b4"
      },
      "execution_count": null,
      "outputs": [
        {
          "output_type": "stream",
          "name": "stdout",
          "text": [
            "maximum temperatures of the week 26.1\n",
            "minimum temperatures of the week 20.8\n"
          ]
        }
      ]
    },
    {
      "cell_type": "code",
      "source": [
        "# Calculate the mean (average) temperature of the week.\n",
        "average = np.mean(temperatures_w1 )\n",
        "print(\"average temperatures of the week\",average )"
      ],
      "metadata": {
        "colab": {
          "base_uri": "https://localhost:8080/"
        },
        "id": "2zmYv_Ml52he",
        "outputId": "3120d7c9-2b1e-4229-e4ff-9fea93685374"
      },
      "execution_count": null,
      "outputs": [
        {
          "output_type": "stream",
          "name": "stdout",
          "text": [
            "average temperatures of the week 23.542857142857144\n"
          ]
        }
      ]
    },
    {
      "cell_type": "markdown",
      "source": [
        "\n",
        "4.\tArray Slicing and Indexing:\n"
      ],
      "metadata": {
        "id": "jCq9tge46XhC"
      }
    },
    {
      "cell_type": "code",
      "source": [
        "#Extract the temperatures for the first three days of the week\n",
        "temperatures_w1 = np.array([22.5, 25.3, 20.8, 23.4, 26.1, 24.8, 21.9])\n",
        "temperatures_w1[:3]"
      ],
      "metadata": {
        "colab": {
          "base_uri": "https://localhost:8080/"
        },
        "id": "jMhMTlb96bG_",
        "outputId": "7dd8809f-01ef-403a-c01b-c9279f26fb1f"
      },
      "execution_count": null,
      "outputs": [
        {
          "output_type": "execute_result",
          "data": {
            "text/plain": [
              "array([22.5, 25.3, 20.8])"
            ]
          },
          "metadata": {},
          "execution_count": 28
        }
      ]
    },
    {
      "cell_type": "code",
      "source": [
        "#Extract the temperatures for the weekend (last two days).\n",
        "temperatures_w1[-2:]"
      ],
      "metadata": {
        "colab": {
          "base_uri": "https://localhost:8080/"
        },
        "id": "UjaEfZ0t8X9Z",
        "outputId": "0403147b-5edd-44a6-f60b-a260034dae33"
      },
      "execution_count": null,
      "outputs": [
        {
          "output_type": "execute_result",
          "data": {
            "text/plain": [
              "array([24.8, 21.9])"
            ]
          },
          "metadata": {},
          "execution_count": 29
        }
      ]
    },
    {
      "cell_type": "code",
      "source": [
        "#\tExtract the temperatures for the middle three days of the week.\n",
        "temperatures_w1[2:5]"
      ],
      "metadata": {
        "colab": {
          "base_uri": "https://localhost:8080/"
        },
        "id": "V_sDHeN_8rac",
        "outputId": "92b21fe8-28f4-4607-e825-3e86fe4a4772"
      },
      "execution_count": null,
      "outputs": [
        {
          "output_type": "execute_result",
          "data": {
            "text/plain": [
              "array([20.8, 23.4, 26.1])"
            ]
          },
          "metadata": {},
          "execution_count": 31
        }
      ]
    },
    {
      "cell_type": "markdown",
      "source": [
        "5.\tCreate a 2D Array:\n",
        "\n",
        "Create a 2D NumPy array named temperatures where each row represents temperatures for a different week:\n"
      ],
      "metadata": {
        "id": "bW4LXwGD9EXU"
      }
    },
    {
      "cell_type": "code",
      "source": [
        "temperatures = np.array([[22.5, 25.3, 20.8, 23.4, 26.1, 24.8, 21.9],[19.2, 22.5, 21.3, 24.0, 23.5, 22.8, 20.1]])\n",
        "temperatures\n"
      ],
      "metadata": {
        "colab": {
          "base_uri": "https://localhost:8080/"
        },
        "id": "SFRVhaGa9MRz",
        "outputId": "bc1ded71-14b1-4546-f77c-26c8e947dfe4"
      },
      "execution_count": null,
      "outputs": [
        {
          "output_type": "execute_result",
          "data": {
            "text/plain": [
              "array([[22.5, 25.3, 20.8, 23.4, 26.1, 24.8, 21.9],\n",
              "       [19.2, 22.5, 21.3, 24. , 23.5, 22.8, 20.1]])"
            ]
          },
          "metadata": {},
          "execution_count": 34
        }
      ]
    },
    {
      "cell_type": "markdown",
      "source": [
        "6.\tInspect and Slice the 2D Array:"
      ],
      "metadata": {
        "id": "8riR9nZK98dc"
      }
    },
    {
      "cell_type": "code",
      "source": [
        "#\tInspect and print the shape, data type, and total number of elements in the temperatures array.\n",
        "temperatures.shape\n"
      ],
      "metadata": {
        "colab": {
          "base_uri": "https://localhost:8080/"
        },
        "id": "du7HvvSg94ZT",
        "outputId": "a52c64e0-75c5-4280-faae-5827d3174782"
      },
      "execution_count": null,
      "outputs": [
        {
          "output_type": "execute_result",
          "data": {
            "text/plain": [
              "(2, 7)"
            ]
          },
          "metadata": {},
          "execution_count": 36
        }
      ]
    },
    {
      "cell_type": "code",
      "source": [
        "temperatures.dtype"
      ],
      "metadata": {
        "colab": {
          "base_uri": "https://localhost:8080/"
        },
        "id": "KKHP3MeX-aJV",
        "outputId": "62726c94-ce52-4fd3-c39d-87e523a4c3a6"
      },
      "execution_count": null,
      "outputs": [
        {
          "output_type": "execute_result",
          "data": {
            "text/plain": [
              "dtype('float64')"
            ]
          },
          "metadata": {},
          "execution_count": 37
        }
      ]
    },
    {
      "cell_type": "code",
      "source": [
        "temperatures.size"
      ],
      "metadata": {
        "colab": {
          "base_uri": "https://localhost:8080/"
        },
        "id": "Lez_9D-B-e_w",
        "outputId": "9963104b-20f8-4cec-9a1d-c9f4e0b7c432"
      },
      "execution_count": null,
      "outputs": [
        {
          "output_type": "execute_result",
          "data": {
            "text/plain": [
              "14"
            ]
          },
          "metadata": {},
          "execution_count": 38
        }
      ]
    },
    {
      "cell_type": "code",
      "source": [
        "#\tExtract and print:\n",
        "#\tThe temperatures for the first week (Row 1).\n",
        "temperatures[0]"
      ],
      "metadata": {
        "colab": {
          "base_uri": "https://localhost:8080/"
        },
        "id": "nfEl8FJL-rv-",
        "outputId": "b9a393ab-b845-43fc-a6c0-c9a738f7717d"
      },
      "execution_count": null,
      "outputs": [
        {
          "output_type": "execute_result",
          "data": {
            "text/plain": [
              "array([22.5, 25.3, 20.8, 23.4, 26.1, 24.8, 21.9])"
            ]
          },
          "metadata": {},
          "execution_count": 39
        }
      ]
    },
    {
      "cell_type": "code",
      "source": [
        "#\tThe temperatures for the second week (Row 2).\n",
        "temperatures[1]"
      ],
      "metadata": {
        "colab": {
          "base_uri": "https://localhost:8080/"
        },
        "id": "NQZF3RDz_Bb9",
        "outputId": "840e4802-c198-4661-d017-f2604016908a"
      },
      "execution_count": null,
      "outputs": [
        {
          "output_type": "execute_result",
          "data": {
            "text/plain": [
              "array([19.2, 22.5, 21.3, 24. , 23.5, 22.8, 20.1])"
            ]
          },
          "metadata": {},
          "execution_count": 40
        }
      ]
    },
    {
      "cell_type": "code",
      "source": [
        "#The temperatures for the first three days of each week.\n",
        "temperatures[:,:3]"
      ],
      "metadata": {
        "colab": {
          "base_uri": "https://localhost:8080/"
        },
        "id": "hfo27R7H_JJZ",
        "outputId": "32a7edf4-1f42-4e09-95d1-817c983a0b74"
      },
      "execution_count": null,
      "outputs": [
        {
          "output_type": "execute_result",
          "data": {
            "text/plain": [
              "array([[22.5, 25.3, 20.8],\n",
              "       [19.2, 22.5, 21.3]])"
            ]
          },
          "metadata": {},
          "execution_count": 42
        }
      ]
    },
    {
      "cell_type": "code",
      "source": [
        "#The temperatures for the weekends (last two days) of both weeks.\n",
        "temperatures[:,5:]\n"
      ],
      "metadata": {
        "colab": {
          "base_uri": "https://localhost:8080/"
        },
        "id": "RQYSt9xoAP0b",
        "outputId": "b403470c-aa42-4335-a0e8-9d8908ee6c44"
      },
      "execution_count": null,
      "outputs": [
        {
          "output_type": "execute_result",
          "data": {
            "text/plain": [
              "array([[24.8, 21.9],\n",
              "       [22.8, 20.1]])"
            ]
          },
          "metadata": {},
          "execution_count": 46
        }
      ]
    }
  ]
}